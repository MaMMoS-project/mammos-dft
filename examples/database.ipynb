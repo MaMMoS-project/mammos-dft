{
 "cells": [
  {
   "cell_type": "markdown",
   "metadata": {},
   "source": [
    "# Ab-initio calculations database: material structure to intrinsic properties at zero Kelvin temperature"
   ]
  },
  {
   "cell_type": "markdown",
   "metadata": {},
   "source": [
    "This notebook shows how to extract results from a database of available ab-initio calculations.\n",
    "Starting from the material structure it is possible to extract intrinsic properties at zero Kelvin temperature.\n",
    "\n",
    "The database can be queried for:\n",
    "- `formula`: Chemical formula. (`str`)\n",
    "- `space_group_name`: Space group name. (`str`)\n",
    "- `space_group_number`: Space group number. (`int`)\n",
    "- `cell_length_a`: Cell length a in armstrong. (`float`)\n",
    "- `cell_length_b`: Cell length b in armstrong. (`float`)\n",
    "- `cell_length_c`: Cell length c in armstrong. (`float`)\n",
    "- `cell_angle_alpha`: Cell angle alpha in degrees. (`float`)\n",
    "- `cell_angle_beta`: Cell angle beta in degrees. (`float`)\n",
    "- `cell_angle_gamma`: Cell angle gamma in degrees. (`float`)\n",
    "- `cell_volume`: Cell volume in armstrong cubed. (`float`)\n",
    "- `ICSD_label`: Label in the NIST Inorganic Crystal Structure Database. (`str`)\n",
    "- `OQMD_label`: Label in the the Open Quantum Materials Database. (`str`)\n",
    "\n",
    "The outputs are:\n",
    "- `Ms_0`: spontaneous magnetisation at temperature 0K expressed in Tesla.\n",
    "- `A_0`: exchange stiffness constant at temperature 0K expressed in J/m.\n",
    "- `K_0`: magnetocrystalline anisotropy at temperature 0K expressed in MJ/m^3."
   ]
  },
  {
   "cell_type": "code",
   "execution_count": 1,
   "metadata": {},
   "outputs": [],
   "source": [
    "from mammos_dft.db import find_materials, get_intrinsic_properties"
   ]
  },
  {
   "cell_type": "markdown",
   "metadata": {},
   "source": [
    "As a first example, we extract a material given the formula and space group information."
   ]
  },
  {
   "cell_type": "code",
   "execution_count": 2,
   "metadata": {},
   "outputs": [
    {
     "data": {
      "text/html": [
       "<pre style=\"white-space:pre;overflow-x:auto;line-height:normal;font-family:Menlo,'DejaVu Sans Mono',consolas,'Courier New',monospace\">Found material in database.\n",
       "</pre>\n"
      ],
      "text/plain": [
       "Found material in database.\n"
      ]
     },
     "metadata": {},
     "output_type": "display_data"
    },
    {
     "data": {
      "text/html": [
       "<pre style=\"white-space:pre;overflow-x:auto;line-height:normal;font-family:Menlo,'DejaVu Sans Mono',consolas,'Courier New',monospace\">\n",
       "Chemical Formula: Y2Ti4Fe18\n",
       "Space group name: P4/mbm\n",
       "Space group number: <span style=\"color: #008080; text-decoration-color: #008080; font-weight: bold\">127</span>\n",
       "Cell length a: <span style=\"color: #008080; text-decoration-color: #008080; font-weight: bold\">8.186244</span>\n",
       "Cell length b: <span style=\"color: #008080; text-decoration-color: #008080; font-weight: bold\">8.186244</span>\n",
       "Cell length c: <span style=\"color: #008080; text-decoration-color: #008080; font-weight: bold\">4.892896</span>\n",
       "Cell angle alpha: <span style=\"color: #008080; text-decoration-color: #008080; font-weight: bold\">90.0</span>\n",
       "Cell angle beta: <span style=\"color: #008080; text-decoration-color: #008080; font-weight: bold\">90.0</span>\n",
       "Cell angle gamma: <span style=\"color: #008080; text-decoration-color: #008080; font-weight: bold\">90.0</span>\n",
       "Cell volume: <span style=\"color: #008080; text-decoration-color: #008080; font-weight: bold\">327.8954234</span>\n",
       "ICSD_label: nan\n",
       "OQMD_label: nan\n",
       "\n",
       "</pre>\n"
      ],
      "text/plain": [
       "\n",
       "Chemical Formula: Y2Ti4Fe18\n",
       "Space group name: P4/mbm\n",
       "Space group number: \u001b[1;36m127\u001b[0m\n",
       "Cell length a: \u001b[1;36m8.186244\u001b[0m\n",
       "Cell length b: \u001b[1;36m8.186244\u001b[0m\n",
       "Cell length c: \u001b[1;36m4.892896\u001b[0m\n",
       "Cell angle alpha: \u001b[1;36m90.0\u001b[0m\n",
       "Cell angle beta: \u001b[1;36m90.0\u001b[0m\n",
       "Cell angle gamma: \u001b[1;36m90.0\u001b[0m\n",
       "Cell volume: \u001b[1;36m327.8954234\u001b[0m\n",
       "ICSD_label: nan\n",
       "OQMD_label: nan\n",
       "\n"
      ]
     },
     "metadata": {},
     "output_type": "display_data"
    }
   ],
   "source": [
    "M = get_intrinsic_properties(\n",
    "    formula=\"Y2Ti4Fe18\",\n",
    "    space_group_name=\"P4/mbm\",\n",
    "    space_group_number=127,\n",
    ")"
   ]
  },
  {
   "cell_type": "markdown",
   "metadata": {},
   "source": [
    "Some materials are published in bigger databases, such as the NIST Inorganic Crystal Structure Database (ICSD) or the Open Quantum Materials Database (OQMD).\n",
    "We can query for such materials using those databases' labels:"
   ]
  },
  {
   "cell_type": "code",
   "execution_count": 3,
   "metadata": {},
   "outputs": [
    {
     "data": {
      "text/html": [
       "<pre style=\"white-space:pre;overflow-x:auto;line-height:normal;font-family:Menlo,'DejaVu Sans Mono',consolas,'Courier New',monospace\">Found material in database.\n",
       "</pre>\n"
      ],
      "text/plain": [
       "Found material in database.\n"
      ]
     },
     "metadata": {},
     "output_type": "display_data"
    },
    {
     "data": {
      "text/html": [
       "<pre style=\"white-space:pre;overflow-x:auto;line-height:normal;font-family:Menlo,'DejaVu Sans Mono',consolas,'Courier New',monospace\">\n",
       "Chemical Formula: CrNiP\n",
       "Space group name: P-62m\n",
       "Space group number: <span style=\"color: #008080; text-decoration-color: #008080; font-weight: bold\">189</span>\n",
       "Cell length a: <span style=\"color: #008080; text-decoration-color: #008080; font-weight: bold\">5.84</span>\n",
       "Cell length b: <span style=\"color: #008080; text-decoration-color: #008080; font-weight: bold\">5.84</span>\n",
       "Cell length c: <span style=\"color: #008080; text-decoration-color: #008080; font-weight: bold\">3.514</span>\n",
       "Cell angle alpha: <span style=\"color: #008080; text-decoration-color: #008080; font-weight: bold\">90.0</span>\n",
       "Cell angle beta: <span style=\"color: #008080; text-decoration-color: #008080; font-weight: bold\">90.0</span>\n",
       "Cell angle gamma: <span style=\"color: #008080; text-decoration-color: #008080; font-weight: bold\">120.0</span>\n",
       "Cell volume: <span style=\"color: #008080; text-decoration-color: #008080; font-weight: bold\">103.79</span>\n",
       "ICSD_label: <span style=\"color: #008080; text-decoration-color: #008080; font-weight: bold\">600596</span>\n",
       "OQMD_label: icsd-<span style=\"color: #008080; text-decoration-color: #008080; font-weight: bold\">600596</span>\n",
       "\n",
       "</pre>\n"
      ],
      "text/plain": [
       "\n",
       "Chemical Formula: CrNiP\n",
       "Space group name: P-62m\n",
       "Space group number: \u001b[1;36m189\u001b[0m\n",
       "Cell length a: \u001b[1;36m5.84\u001b[0m\n",
       "Cell length b: \u001b[1;36m5.84\u001b[0m\n",
       "Cell length c: \u001b[1;36m3.514\u001b[0m\n",
       "Cell angle alpha: \u001b[1;36m90.0\u001b[0m\n",
       "Cell angle beta: \u001b[1;36m90.0\u001b[0m\n",
       "Cell angle gamma: \u001b[1;36m120.0\u001b[0m\n",
       "Cell volume: \u001b[1;36m103.79\u001b[0m\n",
       "ICSD_label: \u001b[1;36m600596\u001b[0m\n",
       "OQMD_label: icsd-\u001b[1;36m600596\u001b[0m\n",
       "\n"
      ]
     },
     "metadata": {},
     "output_type": "display_data"
    },
    {
     "data": {
      "text/plain": [
       "(np.float64(0.83), np.float64(nan), np.float64(0.21))"
      ]
     },
     "execution_count": 3,
     "metadata": {},
     "output_type": "execute_result"
    }
   ],
   "source": [
    "intr_props = get_intrinsic_properties(ICSD_label=\"600596\")\n",
    "intr_props"
   ]
  },
  {
   "cell_type": "markdown",
   "metadata": {},
   "source": [
    "## How to look for a material?\n",
    "We can use the function `find_material` to list all materials satisfying certain constraints:"
   ]
  },
  {
   "cell_type": "code",
   "execution_count": 4,
   "metadata": {},
   "outputs": [
    {
     "data": {
      "text/html": [
       "<div>\n",
       "<style scoped>\n",
       "    .dataframe tbody tr th:only-of-type {\n",
       "        vertical-align: middle;\n",
       "    }\n",
       "\n",
       "    .dataframe tbody tr th {\n",
       "        vertical-align: top;\n",
       "    }\n",
       "\n",
       "    .dataframe thead th {\n",
       "        text-align: right;\n",
       "    }\n",
       "</style>\n",
       "<table border=\"1\" class=\"dataframe\">\n",
       "  <thead>\n",
       "    <tr style=\"text-align: right;\">\n",
       "      <th></th>\n",
       "      <th>formula</th>\n",
       "      <th>space_group_name</th>\n",
       "      <th>space_group_number</th>\n",
       "      <th>cell_length_a</th>\n",
       "      <th>cell_length_b</th>\n",
       "      <th>cell_length_c</th>\n",
       "      <th>cell_angle_alpha</th>\n",
       "      <th>cell_angle_beta</th>\n",
       "      <th>cell_angle_gamma</th>\n",
       "      <th>cell_volume</th>\n",
       "      <th>ICSD_label</th>\n",
       "      <th>OQMD_label</th>\n",
       "      <th>Ms_0</th>\n",
       "      <th>A_0</th>\n",
       "      <th>K_0</th>\n",
       "    </tr>\n",
       "  </thead>\n",
       "  <tbody>\n",
       "    <tr>\n",
       "      <th>0</th>\n",
       "      <td>Co2Fe2H4</td>\n",
       "      <td>P6_3/mmc</td>\n",
       "      <td>194</td>\n",
       "      <td>2.645345</td>\n",
       "      <td>2.645314</td>\n",
       "      <td>8.539476</td>\n",
       "      <td>90.0</td>\n",
       "      <td>90.0</td>\n",
       "      <td>120.0</td>\n",
       "      <td>51.751119</td>\n",
       "      <td>NaN</td>\n",
       "      <td>NaN</td>\n",
       "      <td>1.4957</td>\n",
       "      <td>NaN</td>\n",
       "      <td>2.81</td>\n",
       "    </tr>\n",
       "    <tr>\n",
       "      <th>1</th>\n",
       "      <td>CrNiP</td>\n",
       "      <td>P-62m</td>\n",
       "      <td>189</td>\n",
       "      <td>5.840000</td>\n",
       "      <td>5.840000</td>\n",
       "      <td>3.514000</td>\n",
       "      <td>90.0</td>\n",
       "      <td>90.0</td>\n",
       "      <td>120.0</td>\n",
       "      <td>103.790000</td>\n",
       "      <td>600596</td>\n",
       "      <td>icsd-600596</td>\n",
       "      <td>0.8300</td>\n",
       "      <td>NaN</td>\n",
       "      <td>0.21</td>\n",
       "    </tr>\n",
       "    <tr>\n",
       "      <th>2</th>\n",
       "      <td>Y2Ti4Fe18</td>\n",
       "      <td>P4/mbm</td>\n",
       "      <td>127</td>\n",
       "      <td>8.186244</td>\n",
       "      <td>8.186244</td>\n",
       "      <td>4.892896</td>\n",
       "      <td>90.0</td>\n",
       "      <td>90.0</td>\n",
       "      <td>90.0</td>\n",
       "      <td>327.895423</td>\n",
       "      <td>NaN</td>\n",
       "      <td>NaN</td>\n",
       "      <td>1.1700</td>\n",
       "      <td>NaN</td>\n",
       "      <td>-0.39</td>\n",
       "    </tr>\n",
       "    <tr>\n",
       "      <th>3</th>\n",
       "      <td>FeCoSi</td>\n",
       "      <td>Pnma</td>\n",
       "      <td>62</td>\n",
       "      <td>4.942000</td>\n",
       "      <td>3.776000</td>\n",
       "      <td>7.172000</td>\n",
       "      <td>90.0</td>\n",
       "      <td>90.0</td>\n",
       "      <td>90.0</td>\n",
       "      <td>133.840000</td>\n",
       "      <td>165250</td>\n",
       "      <td>icsd-165250</td>\n",
       "      <td>0.8600</td>\n",
       "      <td>NaN</td>\n",
       "      <td>0.44</td>\n",
       "    </tr>\n",
       "  </tbody>\n",
       "</table>\n",
       "</div>"
      ],
      "text/plain": [
       "     formula space_group_name  space_group_number  cell_length_a  \\\n",
       "0   Co2Fe2H4         P6_3/mmc                 194       2.645345   \n",
       "1      CrNiP            P-62m                 189       5.840000   \n",
       "2  Y2Ti4Fe18           P4/mbm                 127       8.186244   \n",
       "3     FeCoSi             Pnma                  62       4.942000   \n",
       "\n",
       "   cell_length_b  cell_length_c  cell_angle_alpha  cell_angle_beta  \\\n",
       "0       2.645314       8.539476              90.0             90.0   \n",
       "1       5.840000       3.514000              90.0             90.0   \n",
       "2       8.186244       4.892896              90.0             90.0   \n",
       "3       3.776000       7.172000              90.0             90.0   \n",
       "\n",
       "   cell_angle_gamma  cell_volume ICSD_label   OQMD_label    Ms_0  A_0   K_0  \n",
       "0             120.0    51.751119        NaN          NaN  1.4957  NaN  2.81  \n",
       "1             120.0   103.790000     600596  icsd-600596  0.8300  NaN  0.21  \n",
       "2              90.0   327.895423        NaN          NaN  1.1700  NaN -0.39  \n",
       "3              90.0   133.840000     165250  icsd-165250  0.8600  NaN  0.44  "
      ]
     },
     "execution_count": 4,
     "metadata": {},
     "output_type": "execute_result"
    }
   ],
   "source": [
    "find_materials()"
   ]
  },
  {
   "cell_type": "code",
   "execution_count": 5,
   "metadata": {},
   "outputs": [
    {
     "data": {
      "text/html": [
       "<div>\n",
       "<style scoped>\n",
       "    .dataframe tbody tr th:only-of-type {\n",
       "        vertical-align: middle;\n",
       "    }\n",
       "\n",
       "    .dataframe tbody tr th {\n",
       "        vertical-align: top;\n",
       "    }\n",
       "\n",
       "    .dataframe thead th {\n",
       "        text-align: right;\n",
       "    }\n",
       "</style>\n",
       "<table border=\"1\" class=\"dataframe\">\n",
       "  <thead>\n",
       "    <tr style=\"text-align: right;\">\n",
       "      <th></th>\n",
       "      <th>formula</th>\n",
       "      <th>space_group_name</th>\n",
       "      <th>space_group_number</th>\n",
       "      <th>cell_length_a</th>\n",
       "      <th>cell_length_b</th>\n",
       "      <th>cell_length_c</th>\n",
       "      <th>cell_angle_alpha</th>\n",
       "      <th>cell_angle_beta</th>\n",
       "      <th>cell_angle_gamma</th>\n",
       "      <th>cell_volume</th>\n",
       "      <th>ICSD_label</th>\n",
       "      <th>OQMD_label</th>\n",
       "      <th>Ms_0</th>\n",
       "      <th>A_0</th>\n",
       "      <th>K_0</th>\n",
       "    </tr>\n",
       "  </thead>\n",
       "  <tbody>\n",
       "    <tr>\n",
       "      <th>1</th>\n",
       "      <td>CrNiP</td>\n",
       "      <td>P-62m</td>\n",
       "      <td>189</td>\n",
       "      <td>5.84</td>\n",
       "      <td>5.84</td>\n",
       "      <td>3.514</td>\n",
       "      <td>90.0</td>\n",
       "      <td>90.0</td>\n",
       "      <td>120.0</td>\n",
       "      <td>103.79</td>\n",
       "      <td>600596</td>\n",
       "      <td>icsd-600596</td>\n",
       "      <td>0.83</td>\n",
       "      <td>NaN</td>\n",
       "      <td>0.21</td>\n",
       "    </tr>\n",
       "  </tbody>\n",
       "</table>\n",
       "</div>"
      ],
      "text/plain": [
       "  formula space_group_name  space_group_number  cell_length_a  cell_length_b  \\\n",
       "1   CrNiP            P-62m                 189           5.84           5.84   \n",
       "\n",
       "   cell_length_c  cell_angle_alpha  cell_angle_beta  cell_angle_gamma  \\\n",
       "1          3.514              90.0             90.0             120.0   \n",
       "\n",
       "   cell_volume ICSD_label   OQMD_label  Ms_0  A_0   K_0  \n",
       "1       103.79     600596  icsd-600596  0.83  NaN  0.21  "
      ]
     },
     "execution_count": 5,
     "metadata": {},
     "output_type": "execute_result"
    }
   ],
   "source": [
    "find_materials(formula=\"CrNiP\")"
   ]
  }
 ],
 "metadata": {
  "kernelspec": {
   "display_name": "Python 3",
   "language": "python",
   "name": "python3"
  },
  "language_info": {
   "codemirror_mode": {
    "name": "ipython",
    "version": 3
   },
   "file_extension": ".py",
   "mimetype": "text/x-python",
   "name": "python",
   "nbconvert_exporter": "python",
   "pygments_lexer": "ipython3",
   "version": "3.13.3"
  }
 },
 "nbformat": 4,
 "nbformat_minor": 4
}
