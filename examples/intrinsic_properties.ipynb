{
 "cells": [
  {
   "cell_type": "markdown",
   "metadata": {},
   "source": [
    "# Ab-initio calculations database: material structure to intrinsic properties at zero Kelvin temperature"
   ]
  },
  {
   "cell_type": "markdown",
   "metadata": {},
   "source": [
    "This notebook shows how to extract results from a database of available ab-initio calculations.\n",
    "Starting from the material structure it is possible to extract intrinsic properties at zero Kelvin temperature.\n",
    "\n",
    "The database can be queried for:\n",
    "- `formula`: Chemical formula. (`str`)\n",
    "- `space_group_name`: Space group name. (`str`)\n",
    "- `space_group_number`: Space group number. (`int`)\n",
    "- `cell_length_a`: Cell length a in armstrong. (`float`)\n",
    "- `cell_length_b`: Cell length b in armstrong. (`float`)\n",
    "- `cell_length_c`: Cell length c in armstrong. (`float`)\n",
    "- `cell_angle_alpha`: Cell angle alpha in degrees. (`float`)\n",
    "- `cell_angle_beta`: Cell angle beta in degrees. (`float`)\n",
    "- `cell_angle_gamma`: Cell angle gamma in degrees. (`float`)\n",
    "- `cell_volume`: Cell volume in armstrong cubed. (`float`)\n",
    "- `ICSD_label`: Label in the NIST Inorganic Crystal Structure Database. (`str`)\n",
    "- `OQMD_label`: Label in the the Open Quantum Materials Database. (`str`)\n",
    "\n",
    "The outputs are:\n",
    "- `Ms_0`: spontaneous magnetisation $M_s$ at temperature 0K expressed in A/m.\n",
    "- `A_0`: exchange stiffness constant $A$ at temperature 0K expressed in J/m.\n",
    "- `K_0`: magnetocrystalline anisotropy $K_u$ at temperature 0K expressed in J/m^3."
   ]
  },
  {
   "cell_type": "code",
   "execution_count": 1,
   "metadata": {},
   "outputs": [],
   "source": [
    "from mammos_dft.db import find_materials, get_intrinsic_properties, get_intrinsic_properties_floats"
   ]
  },
  {
   "cell_type": "markdown",
   "metadata": {},
   "source": [
    "## Short label: only chemical information and space group number"
   ]
  },
  {
   "cell_type": "markdown",
   "metadata": {},
   "source": [
    "As a first example, we extract a material given the formula and space group information."
   ]
  },
  {
   "cell_type": "code",
   "execution_count": 2,
   "metadata": {},
   "outputs": [
    {
     "data": {
      "text/html": [
       "<pre style=\"white-space:pre;overflow-x:auto;line-height:normal;font-family:Menlo,'DejaVu Sans Mono',consolas,'Courier New',monospace\">Found material in database.\n",
       "</pre>\n"
      ],
      "text/plain": [
       "Found material in database.\n"
      ]
     },
     "metadata": {},
     "output_type": "display_data"
    },
    {
     "data": {
      "text/html": [
       "<pre style=\"white-space:pre;overflow-x:auto;line-height:normal;font-family:Menlo,'DejaVu Sans Mono',consolas,'Courier New',monospace\">\n",
       "Chemical Formula: Y2Ti4Fe18\n",
       "Space group name: P4/mbm\n",
       "Space group number: <span style=\"color: #008080; text-decoration-color: #008080; font-weight: bold\">127</span>\n",
       "Cell length a: <span style=\"color: #008080; text-decoration-color: #008080; font-weight: bold\">8.186244</span> Angstrom\n",
       "Cell length b: <span style=\"color: #008080; text-decoration-color: #008080; font-weight: bold\">8.186244</span> Angstrom\n",
       "Cell length c: <span style=\"color: #008080; text-decoration-color: #008080; font-weight: bold\">4.892896</span> Angstrom\n",
       "Cell angle alpha: <span style=\"color: #008080; text-decoration-color: #008080; font-weight: bold\">90.0</span> deg\n",
       "Cell angle beta: <span style=\"color: #008080; text-decoration-color: #008080; font-weight: bold\">90.0</span> deg\n",
       "Cell angle gamma: <span style=\"color: #008080; text-decoration-color: #008080; font-weight: bold\">90.0</span> deg\n",
       "Cell volume: <span style=\"color: #008080; text-decoration-color: #008080; font-weight: bold\">327.8954234</span> Angstrom3\n",
       "ICSD_label: \n",
       "OQMD_label: \n",
       "\n",
       "</pre>\n"
      ],
      "text/plain": [
       "\n",
       "Chemical Formula: Y2Ti4Fe18\n",
       "Space group name: P4/mbm\n",
       "Space group number: \u001b[1;36m127\u001b[0m\n",
       "Cell length a: \u001b[1;36m8.186244\u001b[0m Angstrom\n",
       "Cell length b: \u001b[1;36m8.186244\u001b[0m Angstrom\n",
       "Cell length c: \u001b[1;36m4.892896\u001b[0m Angstrom\n",
       "Cell angle alpha: \u001b[1;36m90.0\u001b[0m deg\n",
       "Cell angle beta: \u001b[1;36m90.0\u001b[0m deg\n",
       "Cell angle gamma: \u001b[1;36m90.0\u001b[0m deg\n",
       "Cell volume: \u001b[1;36m327.8954234\u001b[0m Angstrom3\n",
       "ICSD_label: \n",
       "OQMD_label: \n",
       "\n"
      ]
     },
     "metadata": {},
     "output_type": "display_data"
    },
    {
     "data": {
      "text/plain": [
       "(UniaxialAnisotropyConstant(value=1.17, unit=A / m),\n",
       " UniaxialAnisotropyConstant(value=0.0, unit=J / m),\n",
       " UniaxialAnisotropyConstant(value=-390000.0, unit=J / m3))"
      ]
     },
     "execution_count": 2,
     "metadata": {},
     "output_type": "execute_result"
    }
   ],
   "source": [
    "Ms_0, A_0, Ku_0 = get_intrinsic_properties(\"Y2Ti4Fe18-127\")\n",
    "Ms_0, A_0, Ku_0"
   ]
  },
  {
   "cell_type": "markdown",
   "metadata": {},
   "source": [
    "This is the same as the following lookup:"
   ]
  },
  {
   "cell_type": "code",
   "execution_count": 3,
   "metadata": {},
   "outputs": [
    {
     "data": {
      "text/html": [
       "<pre style=\"white-space:pre;overflow-x:auto;line-height:normal;font-family:Menlo,'DejaVu Sans Mono',consolas,'Courier New',monospace\">Found material in database.\n",
       "</pre>\n"
      ],
      "text/plain": [
       "Found material in database.\n"
      ]
     },
     "metadata": {},
     "output_type": "display_data"
    },
    {
     "data": {
      "text/html": [
       "<pre style=\"white-space:pre;overflow-x:auto;line-height:normal;font-family:Menlo,'DejaVu Sans Mono',consolas,'Courier New',monospace\">\n",
       "Chemical Formula: Y2Ti4Fe18\n",
       "Space group name: P4/mbm\n",
       "Space group number: <span style=\"color: #008080; text-decoration-color: #008080; font-weight: bold\">127</span>\n",
       "Cell length a: <span style=\"color: #008080; text-decoration-color: #008080; font-weight: bold\">8.186244</span> Angstrom\n",
       "Cell length b: <span style=\"color: #008080; text-decoration-color: #008080; font-weight: bold\">8.186244</span> Angstrom\n",
       "Cell length c: <span style=\"color: #008080; text-decoration-color: #008080; font-weight: bold\">4.892896</span> Angstrom\n",
       "Cell angle alpha: <span style=\"color: #008080; text-decoration-color: #008080; font-weight: bold\">90.0</span> deg\n",
       "Cell angle beta: <span style=\"color: #008080; text-decoration-color: #008080; font-weight: bold\">90.0</span> deg\n",
       "Cell angle gamma: <span style=\"color: #008080; text-decoration-color: #008080; font-weight: bold\">90.0</span> deg\n",
       "Cell volume: <span style=\"color: #008080; text-decoration-color: #008080; font-weight: bold\">327.8954234</span> Angstrom3\n",
       "ICSD_label: \n",
       "OQMD_label: \n",
       "\n",
       "</pre>\n"
      ],
      "text/plain": [
       "\n",
       "Chemical Formula: Y2Ti4Fe18\n",
       "Space group name: P4/mbm\n",
       "Space group number: \u001b[1;36m127\u001b[0m\n",
       "Cell length a: \u001b[1;36m8.186244\u001b[0m Angstrom\n",
       "Cell length b: \u001b[1;36m8.186244\u001b[0m Angstrom\n",
       "Cell length c: \u001b[1;36m4.892896\u001b[0m Angstrom\n",
       "Cell angle alpha: \u001b[1;36m90.0\u001b[0m deg\n",
       "Cell angle beta: \u001b[1;36m90.0\u001b[0m deg\n",
       "Cell angle gamma: \u001b[1;36m90.0\u001b[0m deg\n",
       "Cell volume: \u001b[1;36m327.8954234\u001b[0m Angstrom3\n",
       "ICSD_label: \n",
       "OQMD_label: \n",
       "\n"
      ]
     },
     "metadata": {},
     "output_type": "display_data"
    }
   ],
   "source": [
    "Ms_0, A_0, Ku_0 = get_intrinsic_properties(\n",
    "    chemical_formula=\"Y2Ti4Fe18\",\n",
    "    space_group_name=\"P4/mbm\",\n",
    "    space_group_number=127,\n",
    ")"
   ]
  },
  {
   "cell_type": "markdown",
   "metadata": {},
   "source": [
    "## Hide the information output"
   ]
  },
  {
   "cell_type": "markdown",
   "metadata": {},
   "source": [
    "We can hide the `Found material` information:"
   ]
  },
  {
   "cell_type": "code",
   "execution_count": 4,
   "metadata": {},
   "outputs": [
    {
     "data": {
      "text/plain": [
       "(UniaxialAnisotropyConstant(value=1.17, unit=A / m),\n",
       " UniaxialAnisotropyConstant(value=0.0, unit=J / m),\n",
       " UniaxialAnisotropyConstant(value=-390000.0, unit=J / m3))"
      ]
     },
     "execution_count": 4,
     "metadata": {},
     "output_type": "execute_result"
    }
   ],
   "source": [
    "get_intrinsic_properties(\"Y2Ti4Fe18-127\", print_info=False)"
   ]
  },
  {
   "cell_type": "markdown",
   "metadata": {},
   "source": [
    "## Only return floats"
   ]
  },
  {
   "cell_type": "markdown",
   "metadata": {},
   "source": [
    "The results of the function `get_intrinsic_properties` are `mammos.Entity` objects.\n",
    "If we just want float numbers, we can run"
   ]
  },
  {
   "cell_type": "code",
   "execution_count": 5,
   "metadata": {},
   "outputs": [
    {
     "data": {
      "text/plain": [
       "(np.float64(1.17), np.float64(0.0), np.float64(-390000.0))"
      ]
     },
     "execution_count": 5,
     "metadata": {},
     "output_type": "execute_result"
    }
   ],
   "source": [
    "get_intrinsic_properties_floats(\"Y2Ti4Fe18-127\", print_info=False)"
   ]
  },
  {
   "cell_type": "markdown",
   "metadata": {},
   "source": [
    "## Using other existing databases"
   ]
  },
  {
   "cell_type": "markdown",
   "metadata": {},
   "source": [
    "Some materials are published in bigger databases, such as the NIST Inorganic Crystal Structure Database (ICSD) or the Open Quantum Materials Database (OQMD).\n",
    "We can query for such materials using those databases' labels:"
   ]
  },
  {
   "cell_type": "code",
   "execution_count": 6,
   "metadata": {},
   "outputs": [
    {
     "data": {
      "text/html": [
       "<pre style=\"white-space:pre;overflow-x:auto;line-height:normal;font-family:Menlo,'DejaVu Sans Mono',consolas,'Courier New',monospace\">Found material in database.\n",
       "</pre>\n"
      ],
      "text/plain": [
       "Found material in database.\n"
      ]
     },
     "metadata": {},
     "output_type": "display_data"
    },
    {
     "data": {
      "text/html": [
       "<pre style=\"white-space:pre;overflow-x:auto;line-height:normal;font-family:Menlo,'DejaVu Sans Mono',consolas,'Courier New',monospace\">\n",
       "Chemical Formula: CrNiP\n",
       "Space group name: P-62m\n",
       "Space group number: <span style=\"color: #008080; text-decoration-color: #008080; font-weight: bold\">189</span>\n",
       "Cell length a: <span style=\"color: #008080; text-decoration-color: #008080; font-weight: bold\">5.84</span> Angstrom\n",
       "Cell length b: <span style=\"color: #008080; text-decoration-color: #008080; font-weight: bold\">5.84</span> Angstrom\n",
       "Cell length c: <span style=\"color: #008080; text-decoration-color: #008080; font-weight: bold\">3.514</span> Angstrom\n",
       "Cell angle alpha: <span style=\"color: #008080; text-decoration-color: #008080; font-weight: bold\">90.0</span> deg\n",
       "Cell angle beta: <span style=\"color: #008080; text-decoration-color: #008080; font-weight: bold\">90.0</span> deg\n",
       "Cell angle gamma: <span style=\"color: #008080; text-decoration-color: #008080; font-weight: bold\">120.0</span> deg\n",
       "Cell volume: <span style=\"color: #008080; text-decoration-color: #008080; font-weight: bold\">103.79</span> Angstrom3\n",
       "ICSD_label: <span style=\"color: #008080; text-decoration-color: #008080; font-weight: bold\">600596</span>\n",
       "OQMD_label: icsd-<span style=\"color: #008080; text-decoration-color: #008080; font-weight: bold\">600596</span>\n",
       "\n",
       "</pre>\n"
      ],
      "text/plain": [
       "\n",
       "Chemical Formula: CrNiP\n",
       "Space group name: P-62m\n",
       "Space group number: \u001b[1;36m189\u001b[0m\n",
       "Cell length a: \u001b[1;36m5.84\u001b[0m Angstrom\n",
       "Cell length b: \u001b[1;36m5.84\u001b[0m Angstrom\n",
       "Cell length c: \u001b[1;36m3.514\u001b[0m Angstrom\n",
       "Cell angle alpha: \u001b[1;36m90.0\u001b[0m deg\n",
       "Cell angle beta: \u001b[1;36m90.0\u001b[0m deg\n",
       "Cell angle gamma: \u001b[1;36m120.0\u001b[0m deg\n",
       "Cell volume: \u001b[1;36m103.79\u001b[0m Angstrom3\n",
       "ICSD_label: \u001b[1;36m600596\u001b[0m\n",
       "OQMD_label: icsd-\u001b[1;36m600596\u001b[0m\n",
       "\n"
      ]
     },
     "metadata": {},
     "output_type": "display_data"
    },
    {
     "data": {
      "text/plain": [
       "(UniaxialAnisotropyConstant(value=0.83, unit=A / m),\n",
       " UniaxialAnisotropyConstant(value=0.0, unit=J / m),\n",
       " UniaxialAnisotropyConstant(value=210000.0, unit=J / m3))"
      ]
     },
     "execution_count": 6,
     "metadata": {},
     "output_type": "execute_result"
    }
   ],
   "source": [
    "get_intrinsic_properties(ICSD_label=\"600596\")"
   ]
  },
  {
   "cell_type": "markdown",
   "metadata": {},
   "source": [
    "## Note: get_intrinsic_properties only accepts unique lookup results"
   ]
  },
  {
   "cell_type": "code",
   "execution_count": 7,
   "metadata": {},
   "outputs": [
    {
     "ename": "LookupError",
     "evalue": "Too many results. Please refine your search.\nAvilable materials based on request:\n\nChemical Formula: Y2Ti4Fe18\nSpace group name: P4/mbm\nSpace group number: 127\nCell length a: 8.186244 Angstrom\nCell length b: 8.186244 Angstrom\nCell length c: 4.892896 Angstrom\nCell angle alpha: 90.0 deg\nCell angle beta: 90.0 deg\nCell angle gamma: 90.0 deg\nCell volume: 327.8954234 Angstrom3\nICSD_label: \nOQMD_label: \n\nChemical Formula: FeCoSi\nSpace group name: Pnma\nSpace group number: 62\nCell length a: 4.942 Angstrom\nCell length b: 3.776 Angstrom\nCell length c: 7.172 Angstrom\nCell angle alpha: 90.0 deg\nCell angle beta: 90.0 deg\nCell angle gamma: 90.0 deg\nCell volume: 133.84 Angstrom3\nICSD_label: 165250\nOQMD_label: icsd-165250\n",
     "output_type": "error",
     "traceback": [
      "\u001b[31m---------------------------------------------------------------------------\u001b[39m",
      "\u001b[31mLookupError\u001b[39m                               Traceback (most recent call last)",
      "\u001b[36mCell\u001b[39m\u001b[36m \u001b[39m\u001b[32mIn[7]\u001b[39m\u001b[32m, line 1\u001b[39m\n\u001b[32m----> \u001b[39m\u001b[32m1\u001b[39m \u001b[43mget_intrinsic_properties\u001b[49m\u001b[43m(\u001b[49m\u001b[43mcell_angle_gamma\u001b[49m\u001b[43m=\u001b[49m\u001b[33;43m\"\u001b[39;49m\u001b[33;43m90 deg\u001b[39;49m\u001b[33;43m\"\u001b[39;49m\u001b[43m)\u001b[49m\n",
      "\u001b[36mFile \u001b[39m\u001b[32m~/repo/mammos/mammos-dft/src/mammos_dft/db.py:102\u001b[39m, in \u001b[36mget_intrinsic_properties\u001b[39m\u001b[34m(short_label, chemical_formula, space_group_name, space_group_number, cell_length_a, cell_length_b, cell_length_c, cell_angle_alpha, cell_angle_beta, cell_angle_gamma, cell_volume, ICSD_label, OQMD_label, print_info)\u001b[39m\n\u001b[32m    100\u001b[39m \u001b[38;5;28;01mif\u001b[39;00m short_label \u001b[38;5;129;01mis\u001b[39;00m \u001b[38;5;129;01mnot\u001b[39;00m \u001b[38;5;28;01mNone\u001b[39;00m:\n\u001b[32m    101\u001b[39m     chemical_formula, space_group_number = check_short_label(short_label)\n\u001b[32m--> \u001b[39m\u001b[32m102\u001b[39m material = \u001b[43mfind_unique_material\u001b[49m\u001b[43m(\u001b[49m\n\u001b[32m    103\u001b[39m \u001b[43m    \u001b[49m\u001b[43mprint_info\u001b[49m\u001b[43m=\u001b[49m\u001b[43mprint_info\u001b[49m\u001b[43m,\u001b[49m\n\u001b[32m    104\u001b[39m \u001b[43m    \u001b[49m\u001b[43mchemical_formula\u001b[49m\u001b[43m=\u001b[49m\u001b[43mchemical_formula\u001b[49m\u001b[43m,\u001b[49m\n\u001b[32m    105\u001b[39m \u001b[43m    \u001b[49m\u001b[43mspace_group_name\u001b[49m\u001b[43m=\u001b[49m\u001b[43mspace_group_name\u001b[49m\u001b[43m,\u001b[49m\n\u001b[32m    106\u001b[39m \u001b[43m    \u001b[49m\u001b[43mspace_group_number\u001b[49m\u001b[43m=\u001b[49m\u001b[43mspace_group_number\u001b[49m\u001b[43m,\u001b[49m\n\u001b[32m    107\u001b[39m \u001b[43m    \u001b[49m\u001b[43mcell_length_a\u001b[49m\u001b[43m=\u001b[49m\u001b[43mcell_length_a\u001b[49m\u001b[43m,\u001b[49m\n\u001b[32m    108\u001b[39m \u001b[43m    \u001b[49m\u001b[43mcell_length_b\u001b[49m\u001b[43m=\u001b[49m\u001b[43mcell_length_b\u001b[49m\u001b[43m,\u001b[49m\n\u001b[32m    109\u001b[39m \u001b[43m    \u001b[49m\u001b[43mcell_length_c\u001b[49m\u001b[43m=\u001b[49m\u001b[43mcell_length_c\u001b[49m\u001b[43m,\u001b[49m\n\u001b[32m    110\u001b[39m \u001b[43m    \u001b[49m\u001b[43mcell_angle_alpha\u001b[49m\u001b[43m=\u001b[49m\u001b[43mcell_angle_alpha\u001b[49m\u001b[43m,\u001b[49m\n\u001b[32m    111\u001b[39m \u001b[43m    \u001b[49m\u001b[43mcell_angle_beta\u001b[49m\u001b[43m=\u001b[49m\u001b[43mcell_angle_beta\u001b[49m\u001b[43m,\u001b[49m\n\u001b[32m    112\u001b[39m \u001b[43m    \u001b[49m\u001b[43mcell_angle_gamma\u001b[49m\u001b[43m=\u001b[49m\u001b[43mcell_angle_gamma\u001b[49m\u001b[43m,\u001b[49m\n\u001b[32m    113\u001b[39m \u001b[43m    \u001b[49m\u001b[43mcell_volume\u001b[49m\u001b[43m=\u001b[49m\u001b[43mcell_volume\u001b[49m\u001b[43m,\u001b[49m\n\u001b[32m    114\u001b[39m \u001b[43m    \u001b[49m\u001b[43mICSD_label\u001b[49m\u001b[43m=\u001b[49m\u001b[43mICSD_label\u001b[49m\u001b[43m,\u001b[49m\n\u001b[32m    115\u001b[39m \u001b[43m    \u001b[49m\u001b[43mOQMD_label\u001b[49m\u001b[43m=\u001b[49m\u001b[43mOQMD_label\u001b[49m\u001b[43m,\u001b[49m\n\u001b[32m    116\u001b[39m \u001b[43m\u001b[49m\u001b[43m)\u001b[49m\n\u001b[32m    118\u001b[39m Ms_0 = me.Ms(material.SpontaneousMagnetization)\n\u001b[32m    119\u001b[39m \u001b[38;5;66;03m# TODO unit Tesla is not okay. What to do?\u001b[39;00m\n",
      "\u001b[36mFile \u001b[39m\u001b[32m~/repo/mammos/mammos-dft/src/mammos_dft/db.py:272\u001b[39m, in \u001b[36mfind_unique_material\u001b[39m\u001b[34m(print_info, **kwargs)\u001b[39m\n\u001b[32m    270\u001b[39m     \u001b[38;5;28;01mfor\u001b[39;00m row, material \u001b[38;5;129;01min\u001b[39;00m df.iterrows():\n\u001b[32m    271\u001b[39m         error_string += describe_material(material)\n\u001b[32m--> \u001b[39m\u001b[32m272\u001b[39m     \u001b[38;5;28;01mraise\u001b[39;00m \u001b[38;5;167;01mLookupError\u001b[39;00m(error_string)\n\u001b[32m    273\u001b[39m \u001b[38;5;28;01melse\u001b[39;00m:\n\u001b[32m    274\u001b[39m     material = df.iloc[\u001b[32m0\u001b[39m]\n",
      "\u001b[31mLookupError\u001b[39m: Too many results. Please refine your search.\nAvilable materials based on request:\n\nChemical Formula: Y2Ti4Fe18\nSpace group name: P4/mbm\nSpace group number: 127\nCell length a: 8.186244 Angstrom\nCell length b: 8.186244 Angstrom\nCell length c: 4.892896 Angstrom\nCell angle alpha: 90.0 deg\nCell angle beta: 90.0 deg\nCell angle gamma: 90.0 deg\nCell volume: 327.8954234 Angstrom3\nICSD_label: \nOQMD_label: \n\nChemical Formula: FeCoSi\nSpace group name: Pnma\nSpace group number: 62\nCell length a: 4.942 Angstrom\nCell length b: 3.776 Angstrom\nCell length c: 7.172 Angstrom\nCell angle alpha: 90.0 deg\nCell angle beta: 90.0 deg\nCell angle gamma: 90.0 deg\nCell volume: 133.84 Angstrom3\nICSD_label: 165250\nOQMD_label: icsd-165250\n"
     ]
    }
   ],
   "source": [
    "get_intrinsic_properties(cell_angle_gamma=\"90 deg\")"
   ]
  }
 ],
 "metadata": {
  "kernelspec": {
   "display_name": "example",
   "language": "python",
   "name": "python3"
  },
  "language_info": {
   "codemirror_mode": {
    "name": "ipython",
    "version": 3
   },
   "file_extension": ".py",
   "mimetype": "text/x-python",
   "name": "python",
   "nbconvert_exporter": "python",
   "pygments_lexer": "ipython3",
   "version": "3.13.3"
  }
 },
 "nbformat": 4,
 "nbformat_minor": 4
}
