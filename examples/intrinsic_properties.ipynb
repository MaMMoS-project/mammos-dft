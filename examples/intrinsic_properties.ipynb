{
 "cells": [
  {
   "cell_type": "markdown",
   "metadata": {},
   "source": [
    "# Ab-initio calculations database: material structure to intrinsic properties at zero Kelvin temperature"
   ]
  },
  {
   "cell_type": "markdown",
   "metadata": {},
   "source": [
    "This notebook shows how to extract results from a database of available ab-initio calculations.\n",
    "Starting from the material structure it is possible to extract intrinsic properties at zero Kelvin temperature.\n",
    "\n",
    "The database can be queried for:\n",
    "- `formula`: Chemical formula. (`str`)\n",
    "- `space_group_name`: Space group name. (`str`)\n",
    "- `space_group_number`: Space group number. (`int`)\n",
    "- `cell_length_a`: Cell length a in armstrong. (`float`)\n",
    "- `cell_length_b`: Cell length b in armstrong. (`float`)\n",
    "- `cell_length_c`: Cell length c in armstrong. (`float`)\n",
    "- `cell_angle_alpha`: Cell angle alpha in degrees. (`float`)\n",
    "- `cell_angle_beta`: Cell angle beta in degrees. (`float`)\n",
    "- `cell_angle_gamma`: Cell angle gamma in degrees. (`float`)\n",
    "- `cell_volume`: Cell volume in armstrong cubed. (`float`)\n",
    "- `ICSD_label`: Label in the NIST Inorganic Crystal Structure Database. (`str`)\n",
    "- `OQMD_label`: Label in the the Open Quantum Materials Database. (`str`)\n",
    "\n",
    "The outputs are:\n",
    "- `Ms_0`: spontaneous magnetisation $M_s$ at temperature 0K expressed in A/m.\n",
    "- `A_0`: exchange stiffness constant $A$ at temperature 0K expressed in J/m.\n",
    "- `K_0`: magnetocrystalline anisotropy $K_u$ at temperature 0K expressed in J/m^3."
   ]
  },
  {
   "cell_type": "code",
   "execution_count": null,
   "metadata": {},
   "outputs": [],
   "source": [
    "from mammos_dft.db import get_intrinsic_properties, get_intrinsic_properties_floats"
   ]
  },
  {
   "cell_type": "markdown",
   "metadata": {},
   "source": [
    "## Short label: only chemical information and space group number"
   ]
  },
  {
   "cell_type": "markdown",
   "metadata": {},
   "source": [
    "As a first example, we extract a material given the formula and space group information."
   ]
  },
  {
   "cell_type": "code",
   "execution_count": null,
   "metadata": {},
   "outputs": [],
   "source": [
    "Ms_0, A_0, Ku_0 = get_intrinsic_properties(\"Y2Ti4Fe18-127\")\n",
    "Ms_0, A_0, Ku_0"
   ]
  },
  {
   "cell_type": "code",
   "execution_count": null,
   "metadata": {},
   "outputs": [],
   "source": [
    "import mammos_entity as me\n",
    "\n",
    "me.Ms(), me.A(), me.Ku()"
   ]
  },
  {
   "cell_type": "markdown",
   "metadata": {},
   "source": [
    "This is the same as the following lookup:"
   ]
  },
  {
   "cell_type": "code",
   "execution_count": null,
   "metadata": {},
   "outputs": [],
   "source": [
    "Ms_0, A_0, Ku_0 = get_intrinsic_properties(\n",
    "    chemical_formula=\"Y2Ti4Fe18\",\n",
    "    space_group_name=\"P4/mbm\",\n",
    "    space_group_number=127,\n",
    ")"
   ]
  },
  {
   "cell_type": "markdown",
   "metadata": {},
   "source": [
    "## Hide the information output"
   ]
  },
  {
   "cell_type": "markdown",
   "metadata": {},
   "source": [
    "We can hide the `Found material` information:"
   ]
  },
  {
   "cell_type": "code",
   "execution_count": null,
   "metadata": {},
   "outputs": [],
   "source": [
    "get_intrinsic_properties(\"Y2Ti4Fe18-127\", print_info=False)"
   ]
  },
  {
   "cell_type": "markdown",
   "metadata": {},
   "source": [
    "## Only return floats"
   ]
  },
  {
   "cell_type": "markdown",
   "metadata": {},
   "source": [
    "The results of the function `get_intrinsic_properties` are `mammos.Entity` objects.\n",
    "If we just want float numbers, we can run"
   ]
  },
  {
   "cell_type": "code",
   "execution_count": null,
   "metadata": {},
   "outputs": [],
   "source": [
    "get_intrinsic_properties_floats(\"Y2Ti4Fe18-127\", print_info=False)"
   ]
  },
  {
   "cell_type": "markdown",
   "metadata": {},
   "source": [
    "## Using other existing databases"
   ]
  },
  {
   "cell_type": "markdown",
   "metadata": {},
   "source": [
    "Some materials are published in bigger databases, such as the NIST Inorganic Crystal Structure Database (ICSD) or the Open Quantum Materials Database (OQMD).\n",
    "We can query for such materials using those databases' labels:"
   ]
  },
  {
   "cell_type": "code",
   "execution_count": null,
   "metadata": {},
   "outputs": [],
   "source": [
    "get_intrinsic_properties(ICSD_label=\"600596\")"
   ]
  },
  {
   "cell_type": "markdown",
   "metadata": {},
   "source": [
    "## Note: get_intrinsic_properties only accepts unique lookup results"
   ]
  },
  {
   "cell_type": "code",
   "execution_count": null,
   "metadata": {},
   "outputs": [],
   "source": [
    "get_intrinsic_properties(cell_angle_gamma=\"90 deg\")"
   ]
  }
 ],
 "metadata": {
  "kernelspec": {
   "display_name": "Python 3",
   "language": "python",
   "name": "python3"
  },
  "language_info": {
   "codemirror_mode": {
    "name": "ipython",
    "version": 3
   },
   "file_extension": ".py",
   "mimetype": "text/x-python",
   "name": "python",
   "nbconvert_exporter": "python",
   "pygments_lexer": "ipython3",
   "version": "3.13.3"
  }
 },
 "nbformat": 4,
 "nbformat_minor": 4
}
